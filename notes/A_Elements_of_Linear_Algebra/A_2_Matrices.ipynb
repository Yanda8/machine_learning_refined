{
 "cells": [
  {
   "cell_type": "markdown",
   "metadata": {},
   "source": [
    "## Appendix A: Elements of Linear Algebra"
   ]
  },
  {
   "cell_type": "markdown",
   "metadata": {},
   "source": [
    "# A.2  Matrices and matrix operations"
   ]
  },
  {
   "cell_type": "markdown",
   "metadata": {},
   "source": [
    "In this Section we introduce the concept of a matrix as well as the basic operations one can perform on a single matrix or pairs of matrices. These completely mirror those of the vector, including the transpose operation, addition/subtraction, and several multiplication operations including the inner, outer, and element-wise products. Because of the close similarity to vectors this Section is much more terse than the previous. "
   ]
  },
  {
   "cell_type": "code",
   "execution_count": 1,
   "metadata": {
    "collapsed": true
   },
   "outputs": [],
   "source": [
    "# This code cell will not be shown in the HTML version of this notebook\n",
    "#imports from custom library\n",
    "import sys\n",
    "sys.path.append('../../')\n",
    "import matplotlib.pyplot as plt\n",
    "from mlrefined_libraries import basics_library as baslib\n",
    "from mlrefined_libraries import linear_algebra_library as linlib"
   ]
  },
  {
   "cell_type": "markdown",
   "metadata": {},
   "source": [
    "## The Matrix"
   ]
  },
  {
   "cell_type": "markdown",
   "metadata": {},
   "source": [
    "If we take a set of $P$ row vectors, each of dimension $N$ "
   ]
  },
  {
   "cell_type": "markdown",
   "metadata": {},
   "source": [
    "$$\\mathbf{x}_{1}=\\left[\\begin{array}{cccc}\n",
    "x_{11} & x_{12} & \\cdots & x_{1N}\\end{array}\\right]$$\n",
    "\n",
    "$$\\mathbf{x}_{2}=\\left[\\begin{array}{cccc}\n",
    "x_{21} & x_{22} & \\cdots & x_{2N}\\end{array}\\right]$$\n",
    "\n",
    "$$\\vdots$$\n",
    "\n",
    "$$\\mathbf{x}_{P}=\\left[\\begin{array}{cccc}\n",
    "x_{P1} & x_{P2} & \\cdots & x_{PN}\\end{array}\\right]$$"
   ]
  },
  {
   "cell_type": "markdown",
   "metadata": {},
   "source": [
    "and stack them one-by-one on top of each other we form an object called a *matrix*\n",
    "\n",
    "\n",
    "\\begin{equation}\n",
    "\\mathbf{X}= \\begin{bmatrix}\n",
    "x_{11} & x_{12} & \\cdots & x_{1N}\\\\\n",
    "x_{21} & x_{22} & \\cdots & x_{2N}\\\\\n",
    "\\vdots & \\vdots & \\ddots & \\vdots\\\\\n",
    "x_{P1} & x_{P2} & \\cdots & x_{PN}\n",
    "\\end{bmatrix}\n",
    "\\end{equation}"
   ]
  },
  {
   "cell_type": "markdown",
   "metadata": {},
   "source": [
    "of dimension $P\\times N$, where the first number $P$ is the number of rows in the matrix, with the second number $N$ denoting the number of columns. The notation we use to describe a matrix in the text is a bold uppercase letter, as with $\\mathbf{X}$ above.  Like the vector notation nothing about the dimensions of the matrix is detailed by its notation and they must be explicitly stated."
   ]
  },
  {
   "cell_type": "markdown",
   "metadata": {},
   "source": [
    "The transpose operation we originally saw for vectors is defined by extension for matrices.  When performed on a matrix the transpose operation flips the entire array around: every column is turned into a row, and then these rows are stacked one on top of the other, forming a $N\\times P$ matrix.\n",
    "\n",
    "\\begin{equation}\n",
    "\\mathbf{X} ^T= \\begin{bmatrix}\n",
    "x_{11} & x_{21} & \\cdots & x_{P1}\\\\\n",
    "x_{12} & x_{22} & \\cdots & x_{P2}\\\\\n",
    "\\vdots & \\vdots & \\ddots & \\vdots\\\\\n",
    "x_{1N} & x_{2N} & \\cdots & x_{PN}\n",
    "\\end{bmatrix}\n",
    "\\end{equation}"
   ]
  },
  {
   "cell_type": "markdown",
   "metadata": {},
   "source": [
    "## Matrix addition and subtraction"
   ]
  },
  {
   "cell_type": "markdown",
   "metadata": {},
   "source": [
    "Addition and subtraction of matrices is performed element-wise, just as with vectors. As with vectors, to perform addition/subtraction on two matrices they must have the same dimensions. For example, with two $P\\times N$ matrices $\\mathbf{X}$ and $\\mathbf{Y}$\n",
    "\n",
    "\\begin{equation}\n",
    "\\mathbf{X}=\\begin{bmatrix}\n",
    "x_{11} & x_{12} & \\cdots & x_{1N}\\\\\n",
    "x_{21} & x_{22} & \\cdots & x_{2N}\\\\\n",
    "\\vdots & \\vdots & \\ddots & \\vdots\\\\\n",
    "x_{P1} & x_{P2} & \\cdots & x_{PN}\n",
    "\\end{bmatrix} \\,\\,\\,\\,\\,\\,\\,\\,\\,  \\mathbf{Y}=\\begin{bmatrix}\n",
    "y_{11} & y_{12} & \\cdots & y_{1N}\\\\\n",
    "y_{21} & y_{22} & \\cdots & y_{2N}\\\\\n",
    "\\vdots & \\vdots & \\ddots & \\vdots\\\\\n",
    "y_{P1} & y_{P2} & \\cdots & y_{PN}\n",
    "\\end{bmatrix}\n",
    "\\end{equation}\n",
    "\n",
    "their (element-wise) sum is defined as\n",
    "\n",
    "\\begin{equation}\n",
    "\\mathbf{X}+\\mathbf{Y}=\\begin{bmatrix}\n",
    "x_{11}+y_{11} & x_{12}+y_{12} & \\cdots & x_{1N}+y_{1N}\\\\\n",
    "x_{21}+y_{21} & x_{22}+y_{22} & \\cdots & x_{2N}+y_{2N}\\\\\n",
    "\\vdots & \\vdots & \\ddots & \\vdots\\\\\n",
    "x_{P1}+y_{P1} & x_{P2}+y_{P2} & \\cdots & x_{PN}+y_{PN}\n",
    "\\end{bmatrix}\n",
    "\\end{equation}"
   ]
  },
  {
   "cell_type": "markdown",
   "metadata": {},
   "source": [
    "## Matrix multplication"
   ]
  },
  {
   "cell_type": "markdown",
   "metadata": {},
   "source": [
    "### Multiplication of a matrix by a scalar"
   ]
  },
  {
   "cell_type": "markdown",
   "metadata": {},
   "source": [
    "As with vectors, we can multiply any matrix $\\mathbf{X}$ by a scalar $c$, and this operation is performed element by element.\n",
    "\n",
    "$$\n",
    "c\\,\\mathbf{X}=\\begin{bmatrix}\n",
    "c\\, x_{11} & c\\, x_{12} & \\cdots & c\\, x_{1N}\\\\\n",
    "c\\, x_{21} & c\\, x_{22} & \\cdots & c\\, x_{2N}\\\\\n",
    "\\vdots & \\vdots & \\ddots & \\vdots\\\\\n",
    "c\\, x_{P1} & c\\, x_{P2} & \\cdots & c\\, x_{PN}\n",
    "\\end{bmatrix}\n",
    "$$"
   ]
  },
  {
   "cell_type": "markdown",
   "metadata": {},
   "source": [
    "### Multiplication of a matrix by a vector"
   ]
  },
  {
   "cell_type": "markdown",
   "metadata": {},
   "source": [
    "Generally speaking there are two ways to multiply an $P\\times N$ matrix $\\mathbf{X}$ by a vector $\\mathbf{y}$. The first, referred to as *left multiplication*, involves multiplication by a $P$ dimensional row vector $\\mathbf{y}$. This operation is written $\\mathbf{y}\\mathbf{X}$ and results in a row vector of dimension $N$ whose $n^{th}$ element is the inner product of $\\mathbf{y}$ with the $n^{th}$ column of $\\mathbf{X}$\n",
    "\n",
    "\\begin{equation}\n",
    "\\mathbf{y}\\mathbf{X} = \n",
    "\\begin{bmatrix}\n",
    "\\sum_{p=1}^P y_px_{p1} \\,\\,\\,\\,\\,\n",
    "\\sum_{p=1}^P y_px_{p2} \\,\\,\\,\\,\\, \n",
    "\\cdots \\,\\,\\,\\,\\,\n",
    "\\sum_{p=1}^P y_px_{pN} \n",
    "\\end{bmatrix}\n",
    "\\end{equation}"
   ]
  },
  {
   "cell_type": "markdown",
   "metadata": {},
   "source": [
    "Right multiplication is defined by multiplying $\\mathbf{X}$ on the right by an $N$ dimensional column vector $\\mathbf{y}$. Right multiplication is written as $\\mathbf{X}\\mathbf{y}$, and the result is a $P$ dimensional column vector whose $p^{th}$ element is the inner product of $\\mathbf{y}$ with the $p^{th}$ row of $\\mathbf{X}$\n",
    "\n",
    "\\begin{equation}\n",
    "\\mathbf{X}\\mathbf{y} = \n",
    "\\begin{bmatrix}\n",
    "\\sum_{n=1}^N y_nx_{1n} \\\\\n",
    "\\sum_{n=1}^N y_nx_{2n} \\\\ \n",
    "\\vdots \\\\\n",
    "\\sum_{n=1}^N y_nx_{Pn} \n",
    "\\end{bmatrix}\n",
    "\\end{equation}"
   ]
  },
  {
   "cell_type": "markdown",
   "metadata": {
    "collapsed": true
   },
   "source": [
    "### Element-wise multiplication of two matrices"
   ]
  },
  {
   "cell_type": "markdown",
   "metadata": {},
   "source": [
    "As with vectors, we can define element-wise multiplication on two matrices of the same dimension. Element-wise product of two $P\\times N$ matrices $\\mathbf{X}$ and $\\mathbf{Y}$ is written as"
   ]
  },
  {
   "cell_type": "markdown",
   "metadata": {},
   "source": [
    "\\begin{equation}\n",
    "\\mathbf{X}\\circ \\mathbf{Y}=\\begin{bmatrix}\n",
    "x_{11}\\ y_{11} & x_{12}\\ y_{12} & \\cdots & x_{1N}\\ y_{1N}\\\\\n",
    "x_{21}\\ y_{21} & x_{22}\\ y_{22} & \\cdots & x_{2N}\\ y_{2N}\\\\\n",
    "\\vdots & \\vdots & \\ddots & \\vdots\\\\\n",
    "x_{P1}\\ y_{P1} & x_{P2}\\ y_{P2} & \\cdots & x_{PN}\\ y_{PN}\n",
    "\\end{bmatrix}\n",
    "\\end{equation}"
   ]
  },
  {
   "cell_type": "markdown",
   "metadata": {},
   "source": [
    "### General multiplication of two matrices"
   ]
  },
  {
   "cell_type": "markdown",
   "metadata": {},
   "source": [
    "The general product (or simply product) of two matrices $\\mathbf{X}$ and $\\mathbf{Y}$ can be defined based on the vector outer product operation, provided that the number of columns in $\\mathbf{X}$ matches the number of rows in $\\mathbf{Y}$. That is, we must have $\\mathbf{X}$ and $\\mathbf{Y}$ of dimensions $P\\times N$ and $N \\times Q$ respectively, for the matrix product to be defined as \n",
    "\n",
    "\\begin{equation}\n",
    "\\mathbf{XY}= \\sum_{n=1}^N \\mathbf{x}_{n}\\mathbf{y}_{n}^{T}\n",
    "\\end{equation}\n",
    "\n",
    "where $\\mathbf{x}_{n}$ is the $n^{th}$ column of $\\mathbf{X}$, and $\\mathbf{y}_{n}^{T}$ is the transpose of the $n^{th}$ column of $\\mathbf{Y}^{T}$ (or equivalently, the $n^{th}$ row of $\\mathbf{Y}$). Note that each summand above is a matrix of dimension $P \\times Q$, and so too is the final matrix $\\mathbf{XY}$.\n",
    "\n",
    "Matrix multplication can also be defined element-wise, using vector inner products, where the entry in the $p^{th}$ row and $q^{th}$ column of $\\mathbf{XY}$ is found as the inner product of (transpose of) the $p^{th}$ row in $\\mathbf{X}$ and the $q^{th}$ column in $\\mathbf{Y}$."
   ]
  },
  {
   "cell_type": "markdown",
   "metadata": {},
   "source": [
    "&copy; This material is not to be distributed, copied, or reused without written permission from the authors."
   ]
  }
 ],
 "metadata": {
  "anaconda-cloud": {},
  "kernelspec": {
   "display_name": "Python 3",
   "language": "python",
   "name": "python3"
  },
  "language_info": {
   "codemirror_mode": {
    "name": "ipython",
    "version": 3
   },
   "file_extension": ".py",
   "mimetype": "text/x-python",
   "name": "python",
   "nbconvert_exporter": "python",
   "pygments_lexer": "ipython3",
   "version": "3.5.3"
  },
  "toc": {
   "colors": {
    "hover_highlight": "#DAA520",
    "navigate_num": "#000000",
    "navigate_text": "#333333",
    "running_highlight": "#FF0000",
    "selected_highlight": "#FFD700",
    "sidebar_border": "#EEEEEE",
    "wrapper_background": "#FFFFFF"
   },
   "moveMenuLeft": true,
   "nav_menu": {
    "height": "509px",
    "width": "252px"
   },
   "navigate_menu": true,
   "number_sections": false,
   "sideBar": true,
   "threshold": 4,
   "toc_cell": false,
   "toc_section_display": "block",
   "toc_window_display": false,
   "widenNotebook": false
  },
  "widgets": {
   "application/vnd.jupyter.widget-state+json": {
    "state": {},
    "version_major": 1,
    "version_minor": 0
   }
  }
 },
 "nbformat": 4,
 "nbformat_minor": 1
}
