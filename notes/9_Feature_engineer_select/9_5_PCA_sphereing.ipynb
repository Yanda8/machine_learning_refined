{
 "cells": [
  {
   "cell_type": "markdown",
   "metadata": {},
   "source": [
    "## Chapter 9: Principles of Feature Engineering and Selection"
   ]
  },
  {
   "cell_type": "markdown",
   "metadata": {},
   "source": [
    "# 9.5  Feature scaling via PCA sphereing"
   ]
  },
  {
   "cell_type": "markdown",
   "metadata": {},
   "source": [
    "In the previous Section we saw how *feature scaling* via *standard normalization* - i.e., by subtracting off the mean of each input feature and dividing off its standard deviation - significantly improves the topology of a machine learning cost function enabling much more rapid minimization via first order methods like e.g., the generic gradient descent algorithm.  In this Section we describe how PCA is used to perform a more advanced form of standard normalization - commonly called *PCA sphereing* (also commonly referred to as *whitening*).  With this improvement on standard normalization we use PCA to rotate the mean-centered dataset so that its largest orthogonal directions of variance allign with the coordinate axes prior to scaling each input by its standard deviation.  This typically allows us to better compactify the data, resulting in a cost function whose contours are even more 'circular' than that provided by standard normalization and thus makes cost functions even easier to optimize.  "
   ]
  },
  {
   "cell_type": "code",
   "execution_count": 1,
   "metadata": {},
   "outputs": [],
   "source": [
    "# This code cell will not be shown in the HTML version of this notebook\n",
    "# imports from custom library\n",
    "import sys\n",
    "sys.path.append('../../')\n",
    "import matplotlib.pyplot as plt\n",
    "import numpy as np\n",
    "\n",
    "# custom libs\n",
    "from mlrefined_libraries import unsupervised_library as unsuplib\n",
    "from mlrefined_libraries import basics_library as baslib\n",
    "from mlrefined_libraries import math_optimization_library as optlib\n",
    "from mlrefined_libraries import superlearn_library as superlearn\n",
    "\n",
    "unsup_datapath = '../../mlrefined_datasets/unsuperlearn_datasets/'\n",
    "sup_datapath = '../../mlrefined_datasets/superlearn_datasets/'\n",
    "\n",
    "normalizers = unsuplib.normalizers\n",
    "optimizers = optlib.optimizers\n",
    "cost_lib = superlearn.cost_functions\n",
    "classification_plotter = superlearn.classification_static_plotter.Visualizer();\n",
    "\n",
    "\n",
    "# this is needed to compensate for matplotlib notebook's tendancy to blow up images when plotted inline\n",
    "%matplotlib notebook\n",
    "from matplotlib import rcParams\n",
    "rcParams['figure.autolayout'] = True\n",
    "\n",
    "%load_ext autoreload\n",
    "%autoreload 2"
   ]
  },
  {
   "cell_type": "markdown",
   "metadata": {},
   "source": [
    "## 9.5.1  The PCA sphereing scheme"
   ]
  },
  {
   "cell_type": "markdown",
   "metadata": {},
   "source": [
    "Using the same notation as in the previous Section we denote by $\\mathbf{x}_p$ the $p^{th}$ input of $N$ dimensions belonging to some dataset of $P$ points.  By stacking these together column-wise we create our $N\\times P$ data matrix $\\mathbf{X}$.  We then denote $\\frac{1}{P}\\mathbf{X}\\mathbf{X}^T + \\lambda \\mathbf{I}_{N\\times N}$ the regularized covariance matrix of this data and $\\frac{1}{P}\\mathbf{X}^{\\,} \\mathbf{X}^T +\\lambda \\mathbf{I}_{N\\times N}= \\mathbf{V}^{\\,}\\mathbf{D}^{\\,}\\mathbf{V}^T$ its eigenvalue/vector decomposition (see Section 8.4).\n",
    "\n",
    "Now remember that when performing PCA we first *mean-center* our dataset (see Section 8.2) - that is we subtract off the mean of each coordinate (note how this is the first step in the standard normalization scheme as well).  We then aim to represent each of our mean-centered datapoints \n",
    "datapoint $\\mathbf{x}_p$ by $\\mathbf{w}_p = \\mathbf{V}_{\\,}^T\\mathbf{x}_p^{\\,}$.  In the space spanned by the principal components we can represent the entire set of transformed mean-centered data as \n",
    "\n",
    "\\begin{equation}\n",
    "\\text{(PCA transformed data)}\\,\\,\\,\\,\\,\\,\\,\\,\\,\\,\\,\\,\\,\\,\\,\\,\\,\\,\\,\\mathbf{W} = \\mathbf{V}^T\\mathbf{X}^{\\,}.\n",
    "\\end{equation}"
   ]
  },
  {
   "cell_type": "markdown",
   "metadata": {},
   "source": [
    "With our data not rotated so that its largest orthogonal directions of variacne align with the coordinate axes, to *sphere* the data we simply divide off the standard deviation along each coordinate of the PCA-transformed (mean-centered) data $\\mathbf{W}$. "
   ]
  },
  {
   "cell_type": "markdown",
   "metadata": {},
   "source": [
    "In other words, PCA-sphereing is simply the standard normalization scheme we have seen in the previous Section with a single step inserted in between mean centering and the dividing off of standard deviations: in between these two steps we rotate the data using PCA.  By rotating the data prior to scaling we can typically shrink the space consumed by the data considerably more than standard normalization, while simultaneously making any associated cost function considerably easier to minimize properly."
   ]
  },
  {
   "cell_type": "markdown",
   "metadata": {},
   "source": [
    "In the Figure below we show a generic comparison of how standard normalization and PCA sphereing affect a prototypical dataset, and its associated cost function.  Because PCA sphereing first rotates the data prior to scaling it typically results in more compact transformed data, and a transformed cost function with more 'circular' contours (which is easier to minimize via gradient descent).  "
   ]
  },
  {
   "cell_type": "markdown",
   "metadata": {},
   "source": [
    "<figure>\n",
    "  <img src= '../../mlrefined_images/unsupervised_images/standard_normal_vs_pca_sphereing.png' width=\"200%\"  height=\"auto\" alt=\"\"/>\n",
    "      <img src= '../../mlrefined_images/unsupervised_images/standard_vs_sphereing_contours.png' width=\"90%\"  height=\"auto\" alt=\"\"/>\n",
    "  <figcaption>   \n",
    "<strong>Figure 1:</strong> <em> The standard normalization procedure (top row) compared to PCA sphereing (middle row) on a generic dataset.  PCA sphereing is simply the standard normalization scheme with a single step inserted in between mean centering and the dividing off of standard deviations: in between these two steps we rotate the data using PCA.  By rotating the data prior to scaling we can typically shrink the space consumed by the data considerably more than standard normalization.  This tends to make any associated cost function considerably easier to minimize properly by better tempering its contours, making them more 'circular' (bottom row). </em>  </figcaption> \n",
    "</figure>"
   ]
  },
  {
   "cell_type": "markdown",
   "metadata": {},
   "source": [
    "More formally if the *standard normalalization* scheme applied to a single datapoint $\\mathbf{x}_p$ can be written in two steps as "
   ]
  },
  {
   "cell_type": "markdown",
   "metadata": {},
   "source": [
    "---\n",
    "**Standard normalization scheme:**\n",
    "1.  **(mean center)** for each $n$ replace $x_{p,n} \\longleftarrow \\left({x_{p,n} - \\mu_n}\\right)$ where $\\mu_n = \\frac{1}{P}\\sum_{p=1}^{P}x_{p,n}$\n",
    "2.  **(divide off std)** for each $n$ replace $x_{p,n} \\longleftarrow \\frac{x_{p,n}}{\\sigma_n}$ where $\\sigma_n = \\sqrt{\\frac{1}{P}\\sum_{p=1}^{P}\\left(x_{p,n}\\right)^2}$\n",
    "---"
   ]
  },
  {
   "cell_type": "markdown",
   "metadata": {},
   "source": [
    "The PCA-sphereing scheme can be then be written in three highly related steps as follows"
   ]
  },
  {
   "cell_type": "markdown",
   "metadata": {},
   "source": [
    "---\n",
    "**PCA-sphereing scheme:**\n",
    "1.  **(mean center)** for each $n$ replace $x_{p,n} \\longleftarrow \\left({x_{p,n} - \\mu_n}\\right)$ where $\\mu_n = \\frac{1}{P}\\sum_{p=1}^{P}x_{p,n}$\n",
    "2.  **(PCA rotation)** transform $\\mathbf{w}_p = \\mathbf{V}_{\\,}^T\\mathbf{x}_p^{\\,}$ where $\\mathbf{V}$ is the full set of eignenvectors of the reguliarzed covariance matrix\n",
    "3.  **(divide off std)** for each $n$ replace $w_{p,n} \\longleftarrow \\frac{w_{p,n}}{\\sigma_n}$ where $\\sigma_n = \\sqrt{\\frac{1}{P}\\sum_{p=1}^{P}\\left(w_{p,n}\\right)^2}$\n",
    "---"
   ]
  },
  {
   "cell_type": "markdown",
   "metadata": {},
   "source": [
    "## 9.5.2  The PCA-sphereing scheme expressed more elegantly "
   ]
  },
  {
   "cell_type": "markdown",
   "metadata": {},
   "source": [
    "Here we briefly describe how one can write the PCA-sphereing scheme more elegantly by leveraging our understanding of eigenvalue/vector decompositions.  This will result in precisely the same PCA-sphereing scheme we have seen previously, only written in a prettier / more elegant way mathematically speaking.  This also helps shed some light on the theoretical aspects of this normalization scheme.   However in wading through the mathematical details be sure not to lose the 'big picture' communicated previously: that PCA-sphereing is simply an extension of standard normalization where a PCA rotation is applied after mean centering and before dividing off standard deviations. "
   ]
  },
  {
   "cell_type": "markdown",
   "metadata": {},
   "source": [
    "Now, if we so choose we can express steps 2 and 3 of PCA-sphereing in a more mathematically elegant way using the *eigenvalues* of the regularized covariance matrix.  The Raleigh quotient definition (see e.g., the previous Section) of the $n^{th}$ eigenvalue $d_n$ of this matrix states that numerically speaking \n",
    "\n",
    "\\begin{equation}\n",
    "d_n = \\frac{1}{P}\\mathbf{v}_n \\mathbf{X}_{\\,}^{\\,} \\mathbf{X}_{\\,}^T \\mathbf{v}_n \n",
    "\\end{equation}\n",
    "\n",
    "where $\\mathbf{v}_n$ is the $n^{th}$ and corresponding eigenvector.  Now in terms of our PCA transformed data this is equivalently written as\n",
    "\n",
    "\\begin{equation}\n",
    "d_n = \\frac{1}{P}\\left\\Vert \\mathbf{v}_n^T \\mathbf{X} \\right \\Vert_2^2 = {\\frac{1}{P}\\sum_{p=1}^{P}\\left(w_{p,n}\\right)^2}\n",
    "\\end{equation}\n",
    "\n",
    "or in other words, it is the *variance* along the $n^{th}$ axis of the PCA-transformed data.  Since the final step of PCA-sphereing has us divide off the standard deviation along each axis of the transformed data we can then write it equivalently in terms of the eigenvalues as"
   ]
  },
  {
   "cell_type": "markdown",
   "metadata": {},
   "source": [
    "---\n",
    "3).  **(divide off std)** for each $n$ replace $w_{p,n} \\longleftarrow \\frac{w_{p,n}}{d_n^{1/_2}}$ where $d_n^{1/_2}$ is the square root of the $n^{th}$ eigenvalue of the regularized covariance matrix\n",
    " \n",
    " ---"
   ]
  },
  {
   "cell_type": "markdown",
   "metadata": {},
   "source": [
    "Denoting $\\mathbf{D}^{-1/_2}$ as the diagonal matrix whose $n^{th}$ diagonal element is $\\frac{1}{d_n^{1/_2}}$, we can then (after mean-centering the data) express steps 2 and 3 of the PCA-sphereing algorithm very nicely as \n",
    "\n",
    "\\begin{equation}\n",
    "\\text{(cleverly-written PCA-sphered data)}\\,\\,\\,\\,\\,\\,\\,\\,\\, \\mathbf{S}^{\\,} = \\mathbf{D}^{-^1/_2}\\mathbf{W}^{\\,} =  \\mathbf{D}^{-^1/_2}\\mathbf{V}^T\\mathbf{X}^{\\,}.\n",
    "\\end{equation}"
   ]
  },
  {
   "cell_type": "markdown",
   "metadata": {},
   "source": [
    "While expressing PCA-sphereing in may seem largely cosmetic, notice that in the actual implementation (provided above) it is indeed computationally advantageous to simply use the eigenvalues in step 3 of the method (instead of re-computing the standard deviations along each transformed input axis) since we compute them anyway in performing PCA in step 2."
   ]
  },
  {
   "cell_type": "markdown",
   "metadata": {},
   "source": [
    "<figure>\n",
    "  <img src= '../../mlrefined_images/unsupervised_images/pca_sphereing.png' width=\"200%\"  height=\"auto\" alt=\"\"/>\n",
    "  <figcaption>   \n",
    "<strong>Figure 1:</strong> <em> PCA-sphereing illustrated. </em>  </figcaption> \n",
    "</figure>"
   ]
  },
  {
   "cell_type": "markdown",
   "metadata": {},
   "source": [
    "Also notice that in writing the method this way we can see how - unlike the standard normalization scheme - in performing PCA sphereing we do truly 'sphere' the data in that \n",
    "\n",
    "\\begin{equation}\n",
    " \\frac{1}{P}\\mathbf{S}^{\\,}\\mathbf{S}^T = \\mathbf{I}_{N\\times N}\n",
    "\\end{equation}\n",
    "\n",
    "which can be easily shown by simply plugging in the definition of $\\mathbf{S}$ and simplifying.  This implies that the contours of any cost function we have seen thus far tend to be highly *spherical*, e.g., in the case of a quadratic like Least Squares for linear regression are perfectly spherical (see the analysis in Section 8.4.3 for further details), and thus will be much easier to optimize."
   ]
  }
 ],
 "metadata": {
  "anaconda-cloud": {},
  "kernelspec": {
   "display_name": "Python 3",
   "language": "python",
   "name": "python3"
  },
  "language_info": {
   "codemirror_mode": {
    "name": "ipython",
    "version": 3
   },
   "file_extension": ".py",
   "mimetype": "text/x-python",
   "name": "python",
   "nbconvert_exporter": "python",
   "pygments_lexer": "ipython3",
   "version": "3.6.6"
  },
  "toc": {
   "colors": {
    "hover_highlight": "#DAA520",
    "navigate_num": "#000000",
    "navigate_text": "#333333",
    "running_highlight": "#FF0000",
    "selected_highlight": "#FFD700",
    "sidebar_border": "#EEEEEE",
    "wrapper_background": "#FFFFFF"
   },
   "moveMenuLeft": true,
   "nav_menu": {
    "height": "214px",
    "width": "252px"
   },
   "navigate_menu": true,
   "number_sections": false,
   "sideBar": true,
   "threshold": 4,
   "toc_cell": false,
   "toc_section_display": "block",
   "toc_window_display": false,
   "widenNotebook": false
  },
  "widgets": {
   "application/vnd.jupyter.widget-state+json": {
    "state": {},
    "version_major": 1,
    "version_minor": 0
   }
  }
 },
 "nbformat": 4,
 "nbformat_minor": 1
}
