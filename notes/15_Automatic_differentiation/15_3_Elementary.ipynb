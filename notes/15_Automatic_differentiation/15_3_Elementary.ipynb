{
 "cells": [
  {
   "cell_type": "markdown",
   "metadata": {},
   "source": [
    "## Chapter 15: Calculus and automatic differentiation "
   ]
  },
  {
   "cell_type": "markdown",
   "metadata": {},
   "source": [
    "# 15.3  Derivative equations of elementary functions and operations"
   ]
  },
  {
   "cell_type": "markdown",
   "metadata": {},
   "source": [
    "Using the definition of the derivative we will see in this Section that elementary mathematical functions and operations have derivatives that are also elementary functions and/or operations.  This somewhat remarkable fact is the foundation of automatic differentation, as we will see in the Section following this one."
   ]
  },
  {
   "cell_type": "code",
   "execution_count": 1,
   "metadata": {
    "collapsed": true
   },
   "outputs": [],
   "source": [
    "# This code cell will not be shown in the HTML version of this notebook\n",
    "#imports from custom library\n",
    "import sys\n",
    "sys.path.append('../../')\n",
    "import autograd.numpy as np\n",
    "import matplotlib.pyplot as plt\n",
    "from mlrefined_libraries import calculus_library as calclib\n",
    "from mlrefined_libraries import basics_library as baslib\n",
    "\n",
    "%matplotlib notebook\n",
    "from matplotlib import rcParams\n",
    "rcParams['figure.autolayout'] = True"
   ]
  },
  {
   "cell_type": "markdown",
   "metadata": {},
   "source": [
    "## 15.3.1.  Derivative equations for elementary functions and operations"
   ]
  },
  {
   "cell_type": "markdown",
   "metadata": {},
   "source": [
    "Somewhat amazingly, every elementary mathematical function and operation has a derivative that may also be expressed by elementary functions and operations.  In Tables 1 and 2 below we organize *derivative formulae for popular elementary functions* (Table 1) and *elementary operations* (Table 2).  These formulae can be verified by using the definition of the derivative given in equation (14) of the previous Section, as we show for a number of examples below."
   ]
  },
  {
   "cell_type": "markdown",
   "metadata": {},
   "source": [
    "<br>\n",
    "<center>\n",
    "    <caption>Table 1: Derivative formulae for elementary functions</caption>\n",
    "</center>  \n",
    "<table>\n",
    "  <col width=\"180\">\n",
    "  <col width=\"100\">\n",
    "  <col width=\"100\">\n",
    "<thead>\n",
    "<tr>\n",
    "    <th>elementary function</th>\n",
    "    <th>equation</th> \n",
    "    <th>derivative</th>\n",
    "  </tr>\n",
    "  </thead>\n",
    "  <tbody>\n",
    "    <tr>\n",
    "    <td>constant</td>\n",
    "    <td>$c$</td>\n",
    "    <td>$0$</td>\n",
    "  </tr>\n",
    "  <tr>\n",
    "    <td>monomial (degree $p\\neq 0$)</td>\n",
    "    <td>$w^p$</td>\n",
    "    <td>$pw^{p-1}$</td>\n",
    "  </tr>\n",
    "    <tr>\n",
    "    <td>sine</td>\n",
    "    <td>$\\text{sin}(w)$</td>\n",
    "    <td>$\\text{cos}(w)$</td>\n",
    "  </tr>\n",
    "  <tr>\n",
    "    <td>cosine</td>\n",
    "    <td>$\\text{cos}(w)$</td>\n",
    "    <td>$-\\text{sin}(w)$</td>\n",
    "  </tr>\n",
    "  <tr>\n",
    "    <td>exponential</td>\n",
    "    <td>$e^w$</td>\n",
    "    <td>$e^w$</td>\n",
    "  </tr>\n",
    "  <tr>\n",
    "    <td>logarithm</td>\n",
    "    <td>$\\text{log}(w)$</td>\n",
    "    <td>$\\frac{1}{w}$</td>\n",
    "  </tr>\n",
    "    <tr>\n",
    "    <td>hyperbloic tangent</td>\n",
    "    <td>$\\text{tanh}(w)$</td>\n",
    "    <td>$1 - \\text{tanh}^2(w)$</td>\n",
    "  </tr>\n",
    "      <tr>\n",
    "    <td>rectified linear unit (ReLU) </td>\n",
    "    <td>$\\text{max}\\left(0,w\\right)$</td>\n",
    "    <td>$\\begin{cases}0 & w\\leq0\\\\1 & w>0\\end{cases}$</td>\n",
    "  </tr>\n",
    "  </tbody>\n",
    "</table>"
   ]
  },
  {
   "cell_type": "markdown",
   "metadata": {},
   "source": [
    "<br>\n",
    "<center>\n",
    "  <caption>Table 2: Derivative formulae for elementary operations</caption>\n",
    "</center>\n",
    "<table>\n",
    "  <col width=\"820\">\n",
    "  <col width=\"180\">\n",
    "  <col width=\"650\">\n",
    "<thead>\n",
    "<tr>\n",
    "    <th>operation</th> \n",
    "    <th>equation</th>\n",
    "    <th>derivative rule</th>    \n",
    "  </tr>\n",
    "  </thead>\n",
    "  <tbody>\n",
    "     <tr>\n",
    "    <td> addition of a constant $c$ </td>\n",
    "    <td> $g(w) + c$</td>\n",
    "    <td>$\\frac{\\mathrm{d}}{\\mathrm{d}w}\\left(g(w) + c\\right)=  \\frac{\\mathrm{d}}{\\mathrm{d}w}g(w)$</td>\n",
    "  </tr> \n",
    "    <tr>\n",
    "    <td> multiplication by a constant $c$ </td>\n",
    "    <td> $cg(w)$</td>\n",
    "    <td>$\\frac{\\mathrm{d}}{\\mathrm{d}w}\\left(cg(w)\\right)=  c\\frac{\\mathrm{d}}{\\mathrm{d}w}g(w)$</td>\n",
    "  </tr>  \n",
    "  <tr>\n",
    "  <td> addition of functions (often called the summation rule)</td>\n",
    "    <td> $f(w) + g(w)$ </td>\n",
    "    <td>$\\frac{\\mathrm{d}}{\\mathrm{d}w}(f(w) + g(w))=  \\frac{\\mathrm{d}}{\\mathrm{d}w}f(w) + \\frac{\\mathrm{d}}{\\mathrm{d}w}g(w)$</td>\n",
    "  </tr> \n",
    "  <tr>\n",
    "  <td> multiplication of functions (often called the product rule) </td>\n",
    "    <td> $f(w)g(w)$ </td>\n",
    "    <td>$\\frac{\\mathrm{d}}{\\mathrm{d}w}(f(w)\\cdot g(w))=  \\left(\\frac{\\mathrm{d}}{\\mathrm{d}w}f(w)\\right)\\cdot g(w) + f(w)\\cdot \\left(\\frac{\\mathrm{d}}{\\mathrm{d}w}g(w)\\right)$\n",
    "    </td>\n",
    "  </tr>\n",
    "  <tr>\n",
    "  <td> composition of functions (often called the chain rule)</td>\n",
    "    <td> $f(g(w))$ </td>\n",
    "    <td>$\\frac{\\mathrm{d}}{\\mathrm{d}w}(f(g(w)))= \\frac{\\mathrm{d}}{\\mathrm{d}g}f(g) \\cdot \\frac{\\mathrm{d}}{\\mathrm{d}w}g(w)$\n",
    "  </td>\n",
    "  </tr>\n",
    "  <tr>\n",
    "  <td> maximum of two functions </td>\n",
    "    <td> $\\text{max}(f(w),\\,g(w))$ </td>\n",
    "    <td>$\\frac{\\mathrm{d}}{\\mathrm{d}w}(\\text{max}(f(w),\\,g(w))) = \\begin{cases}\\frac{\\mathrm{d}}{\\mathrm{d}w}f\\left(w\\right) & \\text{if}\\,\\,\\,f\\left(w\\right)\\geq g\\left(w\\right)\\\\\\frac{\\mathrm{d}}{\\mathrm{d}w}g\\left(w\\right) & \\text{otherwise}\\end{cases}$</td>\n",
    "  </tr> \n",
    "  </tbody>\n",
    "</table>"
   ]
  },
  {
   "cell_type": "markdown",
   "metadata": {},
   "source": [
    "Note again how the operation rules in Table 2 are for *generic functions*.  There are not two distinct rules telling one how to calculate the derivative formula for the sum of two polynomials, and the sum of two sinusoidal functions: there is just one rule for addition.  Likewise, there are not two rules telling one how to derive formula for the product of an exponential and a polynomial, and an sinusoid and a logarithm: there is only one rule for taking the derivative of a product of functions.  "
   ]
  },
  {
   "cell_type": "markdown",
   "metadata": {},
   "source": [
    "Finally, note that the same formula apply to *partial derivatives* (of multi-input functions) as well."
   ]
  },
  {
   "cell_type": "markdown",
   "metadata": {},
   "source": [
    "#### <span style=\"color:#a50e3e;\">Example 1. </span> Derivative of the constant function"
   ]
  },
  {
   "cell_type": "markdown",
   "metadata": {},
   "source": [
    "Say our function $g(w) = c$ where $c$ is some constant (e.g., 1, -33.2, etc.,).  Let $\\epsilon$ be some small magnitude number, then for a general point $w$\n",
    "\n",
    "\\begin{equation}\n",
    "\\frac{g(w + \\epsilon) - g(w)}{\\epsilon} = \\frac{c - c}{\\epsilon} = \\frac{0}{\\epsilon} = 0\n",
    "\\end{equation}\n",
    "\n",
    "Neither the particular point $w$ nor the sign and magnitude of $\\epsilon$ mattered above: the value is always equal to zero.  So here we have\n",
    "\n",
    "\\begin{equation}\n",
    "\\frac{\\mathrm{d}}{\\mathrm{d}w}g(w) = 0 \n",
    "\\end{equation}"
   ]
  },
  {
   "cell_type": "markdown",
   "metadata": {
    "collapsed": true
   },
   "source": [
    "#### <span style=\"color:#a50e3e;\">Example 2. </span> Derivative a simple line"
   ]
  },
  {
   "cell_type": "markdown",
   "metadata": {},
   "source": [
    "Take the simple line $g(w) = w$, then we have for general $w$ and small magnitude $\\epsilon$\n",
    "\n",
    "\\begin{equation}\n",
    "\\frac{g(w + \\epsilon) - g(w)}{\\epsilon} = \\frac{w + \\epsilon - w}{\\epsilon} = \\frac{\\epsilon}{\\epsilon} = 1\n",
    "\\end{equation}\n",
    "\n",
    "So here we have - again regardless of the magnitude and sign of $\\epsilon$ - this value remains the same.  Hence the general derivative is given as\n",
    "\n",
    "\\begin{equation}\n",
    "\\frac{\\mathrm{d}}{\\mathrm{d}w}g(w)= 1 \n",
    "\\end{equation}"
   ]
  },
  {
   "cell_type": "markdown",
   "metadata": {},
   "source": [
    "#### <span style=\"color:#a50e3e;\">Example 3. </span> Derivative of general monomial terms"
   ]
  },
  {
   "cell_type": "markdown",
   "metadata": {
    "variables": {
     "p}\\choose{j": "<p><strong>SyntaxError</strong>: invalid syntax (<ipython-input-1-db402829e4c6>, line 1)</p>\n"
    }
   },
   "source": [
    "Lets start with the degree two monomial $g(w) = w^2$, then we have for general $w$ and small magnitude $\\epsilon$\n",
    "\n",
    "\n",
    "\\begin{equation}\n",
    "\\frac{g(w + \\epsilon) - g(w)}{\\epsilon} = \\frac{(w + \\epsilon)^2 - w^2}{\\epsilon} = \\frac{w^2 + 2w\\epsilon + \\epsilon^2 - w^2 }{\\epsilon} = \\frac{2w\\epsilon + \\epsilon^2}{\\epsilon} = 2w + \\epsilon\n",
    "\\end{equation}\n",
    "\n",
    "\n",
    "With $\\epsilon$ being infinitely small *it vanishes* from the line above, and we then have that\n",
    "\n",
    "\n",
    "\\begin{equation}\n",
    "\\frac{\\mathrm{d}}{\\mathrm{d}w}g(w) = 2w \n",
    "\\end{equation}\n",
    "\n",
    "\n",
    "Next: lets look at the degree three monomial $g(w) = w^3$\n",
    "\n",
    "\n",
    "\\begin{equation}\n",
    "\\frac{g(w + \\epsilon) - g(w)}{\\epsilon} = \\frac{(w + \\epsilon)^3 - w^3}{\\epsilon} = \\frac{w^3 + 3w^2\\epsilon + 3w\\epsilon^2  + \\epsilon^3 - w^3}{\\epsilon} = 3w^2 + 3w\\epsilon  + \\epsilon\n",
    "\\end{equation}\n",
    "\n",
    " \n",
    "For infinitely small magnitude $\\epsilon$ only the $3w^2$ term remains.  Thus the derivative is \n",
    "\n",
    "\\begin{equation}\n",
    "\\frac{\\mathrm{d}}{\\mathrm{d}w}g(w) = 3w^2\n",
    "\\end{equation}\n",
    "\n",
    "\n",
    "Now lets exmamine an arbitrary degree monomial term $g(w) = w^p$.  This argument works in a completely similar manner to the degree 2 case above: we just need to expand the term $(w + \\epsilon)^p$ and re-arrange terms the right way.  Denoting the general binomial coeffecient (choose notation)\n",
    "\n",
    "\\begin{equation}\n",
    "{{p}\\choose{j}} = \\frac{j!}{j!(p-j)!}\n",
    "\\end{equation}\n",
    "\n",
    "the *Binomial Theorem* gives us this expansion as\n",
    "\n",
    "\\begin{equation}\n",
    "(w + \\epsilon)^{\\,p} = \\sum_{j=0}^p {{p}\\choose{j}}w^{\\,j}{\\epsilon}^{\\,p-j} \n",
    "\\end{equation}\n",
    "\n",
    "Note that we can write this equivalently - pulling out the two highest degree terms in $w$ to make them explicit, leaving every other term in the sum multiplied by $\\epsilon^2$ \n",
    "\n",
    "\\begin{equation}\n",
    " = w^{\\,p} + \\epsilon \\, pw^{\\,p-1} + \\epsilon^2\\sum_{j=0}^{p-2} {{p}\\choose{j}}w^{\\,j}{\\epsilon}^{\\,p-j - 2}\n",
    "\\end{equation}\n",
    "\n",
    "Using this final form, and plugging it into the definition of the derivative we then have\n",
    "\n",
    "\\begin{equation}\n",
    "\\frac{\\left(w + \\epsilon \\right)^{\\,p} - w^{\\,p}}{\\epsilon} = \\frac{ \\left(w^{\\,p} + \\epsilon \\, pw^{\\,p-1} + \\epsilon^2\\sum_{j=0}^{p-2} {{p}\\choose{j}}w^{\\,j}{\\epsilon}^{\\,p-j - 2} \\right) - w^{\\,p}}{\\epsilon}\n",
    "\\end{equation}\n",
    "\n",
    "\n",
    "\\begin{equation}\n",
    "=  pw^{\\,p-1} + \\epsilon\\sum_{j=0}^{p-2} {{p}\\choose{j}}w^{\\,j}{\\epsilon}^{\\,p-j - 2} \n",
    "\\end{equation}\n",
    "\n",
    "and then as $\\epsilon \\longrightarrow 0$ only the $pw^{\\,p-1}$ term remains."
   ]
  },
  {
   "cell_type": "markdown",
   "metadata": {},
   "source": [
    "#### <span style=\"color:#a50e3e;\">Example 4. </span> Derivative of the exponential function"
   ]
  },
  {
   "cell_type": "markdown",
   "metadata": {},
   "source": [
    "With $g(w) = e^{w}$ we have from the definition of the derivative\n",
    "\n",
    "\\begin{equation}\n",
    "\\frac{g(w + \\epsilon) - g(w)}{\\epsilon} = \\frac{ e^{w + \\epsilon} - e^{w}}{\\epsilon} = e^{w}\\frac{e^{\\epsilon} - 1}{\\epsilon} = e^{w}\n",
    "\\end{equation}\n",
    "\n",
    "Where the final equality follows from the fact that denoting $f(\\epsilon) = \\frac{e^{\\epsilon} - 1}{\\epsilon}$ then $f(0) = 1$, as  can be seen in a plot of this function in the printout of the next Python cell."
   ]
  },
  {
   "cell_type": "code",
   "execution_count": 8,
   "metadata": {},
   "outputs": [
    {
     "data": {
      "image/png": "[encoded data removed]",
      "text/plain": [
       "<matplotlib.figure.Figure at 0x129d46cc0>"
      ]
     },
     "metadata": {},
     "output_type": "display_data"
    }
   ],
   "source": [
    "# create function\n",
    "epsilon = np.linspace(-2,2)\n",
    "f = (np.exp(epsilon) - 1)/epsilon\n",
    "\n",
    "# reshape and package for plotter\n",
    "epsilon.shape = (len(epsilon),1)\n",
    "f.shape = (len(f),1)\n",
    "f_table = np.concatenate((epsilon,f),axis=1)\n",
    "\n",
    "# use custom plotter to plot function table of values\n",
    "baslib.basics_plotter.single_plot(table = f_table,xlabel = '$\\epsilon$',ylabel = '$f(\\epsilon)$',rotate_ylabel=0)"
   ]
  },
  {
   "cell_type": "markdown",
   "metadata": {},
   "source": [
    "#### <span style=\"color:#a50e3e;\">Example 5. </span> Derivative the natural logarithm "
   ]
  },
  {
   "cell_type": "markdown",
   "metadata": {},
   "source": [
    "For this example we must use several properties of the (natural) logarithm - that is log the Euler base $e$ = 2.2.71828... - which include the following for positive constants $a$ and $b$\n",
    "\n",
    "\n",
    "\\begin{equation}\n",
    "\\text{log}(a)-\\text{log}(b) = \\text{log}\\left(\\frac{a}{b}\\right)\n",
    "\\end{equation}\n",
    "\n",
    "\n",
    "\\begin{equation}\n",
    "\\cdot \\text{log}(b) = \\text{log}(b^a)\n",
    "\\end{equation}\n",
    "\n",
    "\n",
    "In addition we need to use one particular definition of Euler's constant\n",
    "\n",
    "\\begin{equation}\n",
    "\\underset{\\epsilon\\rightarrow0}{\\text{lim}} \\,\\,\\left(1 + \\epsilon \\right)^{\\frac{1}{\\epsilon}} = e \n",
    "\\end{equation}\n",
    "\n",
    "(which can be verified by examining the plot of $f(\\epsilon ) =\\left(1 + \\epsilon \\right)^{\\frac{1}{\\epsilon}}$ in the printout of the next Python cell) and what follows in general that\n",
    "\n",
    "\\begin{equation}\n",
    "\\left(1 + \\epsilon w \\right)^{\\frac{1}{\\epsilon}} = e^w \n",
    "\\end{equation}\n",
    "\n",
    "\n",
    "as $\\epsilon$ becomes infinitely small.\n",
    "\n",
    "Finally we need the fact that the natural log and $e$ are inverses of one another, e.g., that $\\text{log}(e^w) = w$"
   ]
  },
  {
   "cell_type": "code",
   "execution_count": 9,
   "metadata": {},
   "outputs": [
    {
     "data": {
      "image/png": "[encoded data removed]",
      "text/plain": [
       "<matplotlib.figure.Figure at 0x126c0e2b0>"
      ]
     },
     "metadata": {},
     "output_type": "display_data"
    }
   ],
   "source": [
    "# create function\n",
    "epsilon = np.linspace(-0.1,0.1)\n",
    "f = (1 + epsilon)**(1/epsilon)\n",
    "\n",
    "# reshape and package for plotter\n",
    "epsilon.shape = (len(epsilon),1)\n",
    "f.shape = (len(f),1)\n",
    "f_table = np.concatenate((epsilon,f),axis=1)\n",
    "\n",
    "# use custom plotter to plot function table of values\n",
    "baslib.basics_plotter.single_plot(table = f_table,xlabel = '$\\epsilon$',ylabel = '$f(\\epsilon)$',rotate_ylabel = 0)"
   ]
  },
  {
   "cell_type": "markdown",
   "metadata": {},
   "source": [
    "With these facts in mind and $g(w) = \\text{log}(w)$ we have from the definition of the derivative we have \n",
    "\n",
    "\\begin{equation}\n",
    "\\frac{\\text{log}(w + \\epsilon) - \\text{log}(w)}{\\epsilon} = \\frac{\\text{log}(\\frac{w+\\epsilon}{w})}{\\epsilon} = \\frac{\\text{log}(1 + \\frac{\\epsilon}{w})}{\\epsilon}= \\text{log}((1 + \\frac{\\epsilon}{w})^\\frac{1}{\\epsilon})\\end{equation}\n",
    "\n",
    "\n",
    "And $\\epsilon$ becomes infinitely small, using the definition of $e$, we have that the above\n",
    "\n",
    "\\begin{equation}\n",
    "=\\text{log}(e^\\frac{1}{w}) = \\frac{1}{w} = \\frac{\\mathrm{d}}{\\mathrm{d}w}g(w)\n",
    "\\end{equation}"
   ]
  },
  {
   "cell_type": "markdown",
   "metadata": {},
   "source": [
    "#### <span style=\"color:#a50e3e;\">Example 6. </span> Derivative of sine"
   ]
  },
  {
   "cell_type": "markdown",
   "metadata": {},
   "source": [
    "Using the 'double angle' rule $\\text{sin}(a + b) = \\text{sin}(a)\\text{cos}(b) + \\text{cos}(a)\\text{sin}(b)$ we can write\n",
    "\n",
    "\\begin{equation}\n",
    "\\frac{\\text{sin}(w + \\epsilon) - \\text{sin}(w)}{\\epsilon} = \\frac{\\text{sin}(w)\\text{cos}(\\epsilon) + \\text{cos}(w)\\text{sin}(\\epsilon) - \\text{sin}(w)}{\\epsilon}\n",
    "\\end{equation}\n",
    "\n",
    "\n",
    "and re-arranging this we have that\n",
    "\n",
    "\\begin{equation}\n",
    "= \\text{sin}(w)\\frac{(\\text{cos}(\\epsilon) - 1)}{\\epsilon} + \\text{cos}(w)\\frac{\\text{sin}(\\epsilon)}{\\epsilon} = \\text{cos}(w)\n",
    "\\end{equation}\n",
    "\n",
    "where the final equality follows from the facts that if we denote $f_1(\\epsilon) = \\frac{\\text{cos}(\\epsilon) - 1}{\\epsilon}$  and  $f_2(\\epsilon) = \\frac{\\text{sin}(\\epsilon)}{\\epsilon}$ then $f_1(\\epsilon) = 0$ and $f_2(\\epsilon) = 1$ as can be verified by examining the plot of each of these functions in the printout of the next Python cell. "
   ]
  },
  {
   "cell_type": "code",
   "execution_count": 10,
   "metadata": {},
   "outputs": [
    {
     "data": {
      "image/png": "[encoded data removed]",
      "text/plain": [
       "<matplotlib.figure.Figure at 0x129d3a198>"
      ]
     },
     "metadata": {},
     "output_type": "display_data"
    }
   ],
   "source": [
    "# create function\n",
    "epsilon = np.linspace(-2,2)\n",
    "f_1 = (np.cos(epsilon) - 1)/epsilon\n",
    "f_2 = (np.sin(epsilon))/epsilon\n",
    "\n",
    "# reshape and package for plotter\n",
    "epsilon.shape = (len(epsilon),1)\n",
    "f_1.shape = (len(f_1),1)\n",
    "f_2.shape = (len(f_2),1)\n",
    "f_1_table = np.concatenate((epsilon,f_1),axis=1)\n",
    "f_2_table = np.concatenate((epsilon,f_2),axis=1)\n",
    "\n",
    "# use custom plotter to plot function table of values\n",
    "baslib.basics_plotter.double_plot(table1 = f_1_table,table2 = f_2_table,xlabel = '$\\epsilon$',ylabel_1 = '$f_1(\\epsilon)$',ylabel_2 = '$f_2(\\epsilon)$')"
   ]
  },
  {
   "cell_type": "markdown",
   "metadata": {},
   "source": [
    "#### <span style=\"color:#a50e3e;\">Example 7. </span> Scalar multiplication rule"
   ]
  },
  {
   "cell_type": "markdown",
   "metadata": {},
   "source": [
    "If $c$ is just a constant, then we have from the definition of the derivative $\\frac{\\mathrm{d}}{\\mathrm{d} w}\\left(c \\cdot g(w)\\right)$ that we can simply factor the constant out, giving\n",
    "\n",
    "\\begin{equation}\n",
    " \\frac{c\\cdot g(w + \\epsilon) - c\\cdot g(w)}{\\epsilon} = c \\cdot\\frac{g(w + \\epsilon) - g(w)}{\\epsilon} \n",
    "\\end{equation}\n",
    "\n",
    "and as $\\epsilon$ vanishes the right hand side is precisely $c\\cdot\\frac{\\mathrm{d}}{\\mathrm{d} w} g(w)$"
   ]
  },
  {
   "cell_type": "markdown",
   "metadata": {},
   "source": [
    "#### <span style=\"color:#a50e3e;\">Example 8. </span> Addition rule"
   ]
  },
  {
   "cell_type": "markdown",
   "metadata": {},
   "source": [
    "To show that the derivative of a sum is the sum of individual derivatves, we start by computing the derivative of $\\frac{\\mathrm{d}}{\\mathrm{d}w}\\left(f(w) + g(w) \\right)$ for small $\\epsilon$, and simply rearrange terms as \n",
    "\n",
    "$$\n",
    "\\frac{\\left(f(w + \\epsilon) + g(w + \\epsilon)\\right) - \\left(f(w) + g(w)\\right)}{\\epsilon} \n",
    "$$\n",
    "\n",
    "\\begin{equation}\n",
    "= \\frac{f(w + \\epsilon) - f(w)}{\\epsilon}  + \\frac{g(w + \\epsilon) - g(w)}{\\epsilon} \n",
    "\\end{equation}\n",
    "\n",
    "with the latter being precisely $\\frac{\\mathrm{d}}{\\mathrm{d}w}f(w) + \\frac{\\mathrm{d}}{\\mathrm{d}w}g(w)$"
   ]
  },
  {
   "cell_type": "markdown",
   "metadata": {},
   "source": [
    "#### <span style=\"color:#a50e3e;\">Example 9. </span> Product rule"
   ]
  },
  {
   "cell_type": "markdown",
   "metadata": {},
   "source": [
    "With two functions $f(w)$ and $g(w)$ the definition of the derivative for small magnitude $\\epsilon$ gives\n",
    "\n",
    "\\begin{equation}\n",
    "\\frac{f(w + \\epsilon)g(w + \\epsilon) - f(w)g(w)}{\\epsilon} \n",
    "\\end{equation}\n",
    "\n",
    "\n",
    "Adding and subtracting $f(w+\\epsilon)g(w)$ (equals zero)\n",
    "\n",
    "\\begin{equation}\n",
    "=\\frac{f(w + \\epsilon)g(w + \\epsilon) - f(w + \\epsilon)g(w) + f(w+\\epsilon)g(w) - f(w)g(w)}{\\epsilon} \\end{equation}\n",
    "\n",
    "\n",
    "\\begin{equation}\n",
    "=\\frac{f(w + \\epsilon) - f(w)}{\\epsilon}\\,g(w) \\, \\,+ \\,\\, f(w + \\epsilon)\\,\\frac{g(w + \\epsilon) - g(w)}{\\epsilon}\n",
    "\\end{equation}\n",
    "\n",
    "\n",
    "Then as $\\epsilon \\longrightarrow 0$ we have that\n",
    "\n",
    "$\\begin{align}\n",
    "f(w + \\epsilon) \\longrightarrow f(w)~~~~~~\\\\ \n",
    "\\frac{f(w + \\epsilon) - f(w)}{\\epsilon}\\longrightarrow \\frac{\\mathrm{d}}{\\mathrm{d}w}f(w)  \\\\\n",
    "\\frac{g(w + \\epsilon) - g(w)}{\\epsilon}\\longrightarrow \\frac{\\mathrm{d}}{\\mathrm{d}w}g(w)  \\\\\n",
    "\\end{align}$\n",
    "\n",
    "And so all together then the above gives $\\frac{\\mathrm{d}}{\\mathrm{d}w}f(w)\\cdot g(w) + f(w)\\cdot\\frac{\\mathrm{d}}{\\mathrm{d}w}g(w)$"
   ]
  },
  {
   "cell_type": "markdown",
   "metadata": {},
   "source": [
    "#### <span style=\"color:#a50e3e;\">Example 10. </span> Chain rule"
   ]
  },
  {
   "cell_type": "markdown",
   "metadata": {},
   "source": [
    "With two functions $f(w)$ and $g(w)$ lets look at the composition $f(g(w))$ and compute its derivative $\\frac{\\mathrm{d}}{\\mathrm{d}w}(f(g(w)))$ at a general input $w$.  For small magnitude $\\epsilon$ the definition of the derivative gives\n",
    "\n",
    "\n",
    "\\begin{equation}\n",
    "\\frac{f(g(w + \\epsilon)) - f(g(w))}{\\epsilon} = \\frac{f(g(w + \\epsilon)) - f(g(w))}{g(w + \\epsilon) - g(w)} \\cdot \\frac{g(w + \\epsilon) - g(w)}{\\epsilon} \n",
    "\\end{equation}\n",
    "\n",
    "As $\\vert{\\epsilon}\\vert \\longrightarrow 0$ the left hand side above becomes $\\frac{\\mathrm{d}}{\\mathrm{d}w}(f(g(w)))$, but so too does $g(w + \\epsilon) - g(w) \\longrightarrow 0 $ and on the right side we have that \n",
    "\n",
    "\\begin{equation}\n",
    "\\frac{f(g(w + \\epsilon)) - f(g(w))}{g(w + \\epsilon) - g(w)} \\longrightarrow \\frac{\\mathrm{d}}{\\mathrm{d}g}f(g)\n",
    "\\end{equation}\n",
    "\n",
    "\n",
    "$\\,\\,\\,$\n",
    "\\begin{equation}\n",
    "~~~~~~~~~~~\\frac{g(w + \\epsilon) - g(w)}{\\epsilon} \\longrightarrow \\frac{\\mathrm{d}}{\\mathrm{d}w}g(w)\n",
    "\\end{equation}\n",
    "\n",
    "\n",
    "Therefore all together we have that\n",
    "\n",
    "\\begin{equation}\n",
    "\\frac{\\mathrm{d}}{\\mathrm{d}w}(f(g(w)))= \\frac{\\mathrm{d}}{\\mathrm{d}g}f(g) \\cdot \\frac{\\mathrm{d}}{\\mathrm{d}w}g(w)\\\n",
    "\\end{equation}"
   ]
  }
 ],
 "metadata": {
  "kernelspec": {
   "display_name": "Python 3",
   "language": "python",
   "name": "python3"
  },
  "language_info": {
   "codemirror_mode": {
    "name": "ipython",
    "version": 3
   },
   "file_extension": ".py",
   "mimetype": "text/x-python",
   "name": "python",
   "nbconvert_exporter": "python",
   "pygments_lexer": "ipython3",
   "version": "3.7.1"
  },
  "toc": {
   "colors": {
    "hover_highlight": "#DAA520",
    "navigate_num": "#000000",
    "navigate_text": "#333333",
    "running_highlight": "#FF0000",
    "selected_highlight": "#FFD700",
    "sidebar_border": "#EEEEEE",
    "wrapper_background": "#FFFFFF"
   },
   "moveMenuLeft": true,
   "nav_menu": {
    "height": "121px",
    "width": "252px"
   },
   "navigate_menu": true,
   "number_sections": false,
   "sideBar": true,
   "threshold": 4,
   "toc_cell": false,
   "toc_section_display": "block",
   "toc_window_display": false,
   "widenNotebook": false
  },
  "widgets": {
   "application/vnd.jupyter.widget-state+json": {
    "state": {},
    "version_major": 1,
    "version_minor": 0
   }
  }
 },
 "nbformat": 4,
 "nbformat_minor": 2
}
